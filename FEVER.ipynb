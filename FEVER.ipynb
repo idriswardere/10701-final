{
 "cells": [
  {
   "cell_type": "markdown",
   "metadata": {},
   "source": [
    "# Setup"
   ]
  },
  {
   "cell_type": "code",
   "execution_count": 1,
   "metadata": {},
   "outputs": [
    {
     "data": {
      "text/plain": [
       "True"
      ]
     },
     "execution_count": 1,
     "metadata": {},
     "output_type": "execute_result"
    }
   ],
   "source": [
    "from dotenv import load_dotenv\n",
    "\n",
    "load_dotenv()"
   ]
  },
  {
   "cell_type": "code",
   "execution_count": 2,
   "metadata": {},
   "outputs": [],
   "source": [
    "import requests\n",
    "import wikienv\n",
    "import wrappers\n",
    "\n",
    "env = wikienv.WikiEnv()\n",
    "env = wrappers.FeverWrapper(env, split=\"dev\")\n",
    "env = wrappers.LoggingWrapper(env)\n",
    "\n",
    "def step(env, action):\n",
    "    attempts = 0\n",
    "    while attempts < 10:\n",
    "        try:\n",
    "            return env.step(action)\n",
    "        except requests.exceptions.Timeout:\n",
    "            attempts += 1"
   ]
  },
  {
   "cell_type": "markdown",
   "metadata": {},
   "source": [
    "# ReAct"
   ]
  },
  {
   "cell_type": "code",
   "execution_count": 3,
   "metadata": {},
   "outputs": [],
   "source": [
    "import json\n",
    "\n",
    "folder = './prompts/'\n",
    "prompt_file = 'fever.json'\n",
    "with open(folder + prompt_file, 'r') as f:\n",
    "    prompt_dict = json.load(f)\n",
    "\n",
    "webthink_prompt = prompt_dict['webthink_simple3']\n",
    "\n",
    "def webthink(llm_func, idx=None, prompt=webthink_prompt, to_print=True):\n",
    "    question = env.reset(idx=idx)\n",
    "    if to_print:\n",
    "        print(idx, question)\n",
    "    prompt += question + \"\\n\"\n",
    "    n_calls, n_badcalls = 0, 0\n",
    "    for i in range(1, 8):\n",
    "        n_calls += 1\n",
    "        thought_action = llm_func(prompt + f\"Thought {i}:\", stop=[f\"\\nObservation {i}:\"])\n",
    "        try:\n",
    "            thought, action = thought_action.strip().split(f\"\\nAction {i}: \")\n",
    "        except:\n",
    "            print('ohh...', thought_action)\n",
    "            n_badcalls += 1\n",
    "            n_calls += 1\n",
    "            thought = thought_action.strip().split('\\n')[0]\n",
    "            new_stop = f\"\\n\"\n",
    "            action = llm_func(prompt + f\"Thought {i}: {thought}\\nAction {i}:\", stop=[new_stop]).strip()\n",
    "            action.replace(new_stop, \"\\n\")\n",
    "        obs, r, done, info = step(env, action[0].lower() + action[1:])\n",
    "        obs = obs.replace('\\\\n', '')\n",
    "        step_str = f\"Thought {i}: {thought}\\nAction {i}: {action}\\nObservation {i}: {obs}\\n\"\n",
    "        prompt += step_str\n",
    "        if to_print:\n",
    "            print(step_str)\n",
    "        if done:\n",
    "            break\n",
    "    if not done:\n",
    "        obs, r, done, info = step(env, \"finish[]\")\n",
    "    if to_print:\n",
    "        print(info, '\\n')\n",
    "    info.update({'n_calls': n_calls, 'n_badcalls': n_badcalls, 'traj': prompt})\n",
    "    return r, info"
   ]
  },
  {
   "cell_type": "code",
   "execution_count": 4,
   "metadata": {},
   "outputs": [
    {
     "name": "stderr",
     "output_type": "stream",
     "text": [
      "  0%|          | 0/50 [00:00<?, ?it/s]c:\\Users\\idkan\\anaconda3\\envs\\react\\lib\\site-packages\\gymnasium\\core.py:311: UserWarning: \u001b[33mWARN: env.steps to get variables from other wrappers is deprecated and will be removed in v1.0, to get this variable you can do `env.unwrapped.steps` for environment variables or `env.get_wrapper_attr('steps')` that will search the reminding wrappers.\u001b[0m\n",
      "  logger.warn(\n",
      "c:\\Users\\idkan\\anaconda3\\envs\\react\\lib\\site-packages\\gymnasium\\core.py:311: UserWarning: \u001b[33mWARN: env.answer to get variables from other wrappers is deprecated and will be removed in v1.0, to get this variable you can do `env.unwrapped.answer` for environment variables or `env.get_wrapper_attr('answer')` that will search the reminding wrappers.\u001b[0m\n",
      "  logger.warn(\n",
      "LLM: GPT-4, Accuracy: 0.500:   4%|▍         | 2/50 [00:10<04:12,  5.25s/it]"
     ]
    },
    {
     "name": "stdout",
     "output_type": "stream",
     "text": [
      "ohh... It seems there was an issue with retrieving specific information about the TV show \"Lost\" from the search. Without direct information about the show's genre or description, it's difficult to confirm if it is categorized specifically as an American drama based on the provided observations. Therefore, the appropriate action would be to conclude there is NOT ENOUGH INFORMATION to determine if the claim that \"Lost is an American drama\" is supported or refuted based on the observations provided.\n"
     ]
    },
    {
     "name": "stderr",
     "output_type": "stream",
     "text": [
      "LLM: GPT-4, Accuracy: 0.500:  12%|█▏        | 6/50 [00:34<03:42,  5.05s/it]"
     ]
    },
    {
     "name": "stdout",
     "output_type": "stream",
     "text": [
      "ohh... Action 1: Search[Simón Bolívar]\n"
     ]
    },
    {
     "name": "stderr",
     "output_type": "stream",
     "text": [
      "LLM: GPT-4, Accuracy: 0.850:  40%|████      | 20/50 [01:48<02:24,  4.80s/it]"
     ]
    },
    {
     "name": "stdout",
     "output_type": "stream",
     "text": [
      "ohh... The observation does not provide information about a song titled \"Girl\" or its artist(s), so there is NOT ENOUGH INFORMATION to determine if the claim that \"Girl is only by an African singer\" is supported or refuted.\n"
     ]
    },
    {
     "name": "stderr",
     "output_type": "stream",
     "text": [
      "LLM: GPT-4, Accuracy: 0.792:  48%|████▊     | 24/50 [02:13<02:30,  5.77s/it]"
     ]
    },
    {
     "name": "stdout",
     "output_type": "stream",
     "text": [
      "ohh... Given the lack of direct information about David Spade being fired from Grown Ups 2 and the inability to confirm his involvement or lack thereof in the movie from the provided search results, there is NOT ENOUGH INFORMATION to support or refute the claim that David Spade was fired from being in Grown Ups 2.\n"
     ]
    },
    {
     "name": "stderr",
     "output_type": "stream",
     "text": [
      "LLM: GPT-4, Accuracy: 0.724:  58%|█████▊    | 29/50 [02:47<02:11,  6.27s/it]"
     ]
    },
    {
     "name": "stdout",
     "output_type": "stream",
     "text": [
      "ohh... Action 4: Finish[REFUTES]\n"
     ]
    },
    {
     "name": "stderr",
     "output_type": "stream",
     "text": [
      "LLM: GPT-4, Accuracy: 0.710:  62%|██████▏   | 31/50 [03:04<02:13,  7.01s/it]"
     ]
    },
    {
     "name": "stdout",
     "output_type": "stream",
     "text": [
      "ohh... Action 1: Finish[SUPPORTS]\n"
     ]
    },
    {
     "name": "stderr",
     "output_type": "stream",
     "text": [
      "LLM: GPT-4, Accuracy: 0.697:  66%|██████▌   | 33/50 [03:10<01:25,  5.03s/it]"
     ]
    },
    {
     "name": "stdout",
     "output_type": "stream",
     "text": [
      "ohh... Without specific information on her marital status or personal relationships from the search results, there is NOT ENOUGH INFORMATION to determine if the claim that Tatum O'Neal spent her life single is true or not.\n"
     ]
    },
    {
     "name": "stderr",
     "output_type": "stream",
     "text": [
      "LLM: GPT-4, Accuracy: 0.676:  68%|██████▊   | 34/50 [03:18<01:36,  6.06s/it]"
     ]
    },
    {
     "name": "stdout",
     "output_type": "stream",
     "text": [
      "ohh... Action 2: Finish[REFUTES]\n"
     ]
    },
    {
     "name": "stderr",
     "output_type": "stream",
     "text": [
      "LLM: GPT-4, Accuracy: 0.684:  76%|███████▌  | 38/50 [03:35<00:55,  4.60s/it]"
     ]
    },
    {
     "name": "stdout",
     "output_type": "stream",
     "text": [
      "ohh... Action 2: Finish[SUPPORTS]\n"
     ]
    },
    {
     "name": "stderr",
     "output_type": "stream",
     "text": [
      "LLM: GPT-4, Accuracy: 0.660: 100%|██████████| 50/50 [04:41<00:00,  5.63s/it]\n"
     ]
    }
   ],
   "source": [
    "import random\n",
    "from tqdm import tqdm\n",
    "from llms import (GPT3, GPT4, Claude3Opus)\n",
    "\n",
    "DEBUG = False\n",
    "num_claims = 100\n",
    "llms = {\"GPT-4\": GPT4}\n",
    "\n",
    "idxs = list(range(7405))\n",
    "random.Random(0).shuffle(idxs)\n",
    "for llm_name, llm_func in llms.items():\n",
    "    rewards = []\n",
    "    infos = []\n",
    "    pbar = tqdm(idxs[:num_claims])\n",
    "    for i in pbar:\n",
    "        r, info = webthink(llm_func, i, to_print=DEBUG)\n",
    "        rewards.append(info['em'])\n",
    "        infos.append(info)\n",
    "        running_acc = sum(rewards)/len(rewards)\n",
    "        desc_str = f\"LLM: {llm_name}, Accuracy: {running_acc:.3f}\"\n",
    "        pbar.set_description(desc_str)"
   ]
  }
 ],
 "metadata": {
  "kernelspec": {
   "display_name": "Python 3",
   "language": "python",
   "name": "python3"
  },
  "language_info": {
   "codemirror_mode": {
    "name": "ipython",
    "version": 3
   },
   "file_extension": ".py",
   "mimetype": "text/x-python",
   "name": "python",
   "nbconvert_exporter": "python",
   "pygments_lexer": "ipython3",
   "version": "3.8.19"
  }
 },
 "nbformat": 4,
 "nbformat_minor": 2
}
